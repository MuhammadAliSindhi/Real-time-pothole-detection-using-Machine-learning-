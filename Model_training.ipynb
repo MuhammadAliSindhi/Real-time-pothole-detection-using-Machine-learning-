{
 "cells": [
  {
   "cell_type": "code",
   "execution_count": 11,
   "id": "79895be5",
   "metadata": {},
   "outputs": [],
   "source": [
    "from keras import models\n",
    "from keras import layers\n",
    "from keras import optimizers\n",
    "from keras.preprocessing.image import ImageDataGenerator\n",
    "from keras.preprocessing import image\n",
    "import numpy as np"
   ]
  },
  {
   "cell_type": "code",
   "execution_count": null,
   "id": "efad9c57",
   "metadata": {},
   "outputs": [],
   "source": []
  },
  {
   "cell_type": "code",
   "execution_count": 12,
   "id": "f1b05427",
   "metadata": {},
   "outputs": [],
   "source": [
    "size=128\n",
    "model = models.Sequential()\n",
    "\n",
    "model.add(layers.Conv2D(32, (3, 3), activation='relu', input_shape=(size,size,3)))\n",
    "model.add(layers.MaxPooling2D((2, 2)))\n",
    "\n",
    "model.add(layers.Conv2D(64, (3, 3), activation='relu')) \n",
    "model.add(layers.MaxPooling2D(2, 2))\n",
    "\n",
    "model.add(layers.Conv2D(128, (3, 3), activation='relu'))\n",
    "model.add(layers.MaxPooling2D(2, 2))\n",
    " \n",
    "model.add(layers.Flatten())\n",
    "model.add(layers.Dropout(0.5))\n",
    "\n",
    "model.add(layers.Dense(512, activation='relu'))\n",
    "model.add(layers.Dense(1, activation='sigmoid')) "
   ]
  },
  {
   "cell_type": "code",
   "execution_count": null,
   "id": "4b6b2dfd",
   "metadata": {},
   "outputs": [],
   "source": []
  },
  {
   "cell_type": "code",
   "execution_count": 13,
   "id": "be06ea95",
   "metadata": {},
   "outputs": [],
   "source": [
    "model.compile(optimizer=optimizers.RMSprop(lr=0.0003), loss='binary_crossentropy', metrics=['acc'])"
   ]
  },
  {
   "cell_type": "code",
   "execution_count": null,
   "id": "d308b9d7",
   "metadata": {},
   "outputs": [],
   "source": []
  },
  {
   "cell_type": "code",
   "execution_count": 14,
   "id": "ca643fb5",
   "metadata": {},
   "outputs": [],
   "source": [
    "train_datagen = ImageDataGenerator(\n",
    "    rescale=1./255,\n",
    "    rotation_range=40,\n",
    "    width_shift_range=0.2,\n",
    "    height_shift_range=0.2,\n",
    "    shear_range=0.2,\n",
    "    zoom_range=0.2,\n",
    "    horizontal_flip=True)\n",
    "\n",
    "validation_datagen = ImageDataGenerator(rescale=1.255)"
   ]
  },
  {
   "cell_type": "code",
   "execution_count": null,
   "id": "ec128e97",
   "metadata": {},
   "outputs": [],
   "source": []
  },
  {
   "cell_type": "code",
   "execution_count": 15,
   "id": "1b37ce26",
   "metadata": {},
   "outputs": [
    {
     "name": "stdout",
     "output_type": "stream",
     "text": [
      "Found 1905 images belonging to 2 classes.\n"
     ]
    }
   ],
   "source": [
    "train_generator = train_datagen.flow_from_directory(directory='DataSet/train', target_size=(size,size), \n",
    "                                                    batch_size=64, class_mode='binary')"
   ]
  },
  {
   "cell_type": "code",
   "execution_count": null,
   "id": "64ea132b",
   "metadata": {},
   "outputs": [],
   "source": []
  },
  {
   "cell_type": "code",
   "execution_count": 16,
   "id": "1790ff78",
   "metadata": {},
   "outputs": [
    {
     "name": "stdout",
     "output_type": "stream",
     "text": [
      "Found 113 images belonging to 2 classes.\n"
     ]
    }
   ],
   "source": [
    "validation_generator = validation_datagen.flow_from_directory('DataSet/valid', target_size=(size,size), \n",
    "                                                    batch_size=64, class_mode='binary')"
   ]
  },
  {
   "cell_type": "code",
   "execution_count": null,
   "id": "92ec965e",
   "metadata": {},
   "outputs": [],
   "source": []
  },
  {
   "cell_type": "code",
   "execution_count": 21,
   "id": "30d436ba",
   "metadata": {},
   "outputs": [
    {
     "name": "stderr",
     "output_type": "stream",
     "text": [
      "C:\\Users\\Muhammad Ali\\AppData\\Local\\Temp\\ipykernel_9568\\2761673253.py:1: UserWarning: `Model.fit_generator` is deprecated and will be removed in a future version. Please use `Model.fit`, which supports generators.\n",
      "  history = model.fit_generator(train_generator, epochs=10, steps_per_epoch=5,\n"
     ]
    },
    {
     "name": "stdout",
     "output_type": "stream",
     "text": [
      "Epoch 1/10\n",
      "5/5 [==============================] - 28s 6s/step - loss: 0.5751 - acc: 0.6918 - val_loss: 405.8813 - val_acc: 0.2035\n",
      "Epoch 2/10\n",
      "5/5 [==============================] - 27s 6s/step - loss: 0.5408 - acc: 0.7125 - val_loss: 774.4998 - val_acc: 0.1365\n",
      "Epoch 3/10\n",
      "5/5 [==============================] - 27s 5s/step - loss: 0.5419 - acc: 0.6875 - val_loss: 532.8242 - val_acc: 0.2084\n",
      "Epoch 4/10\n",
      "5/5 [==============================] - 30s 6s/step - loss: 0.5743 - acc: 0.7219 - val_loss: 384.1739 - val_acc: 0.2581\n",
      "Epoch 5/10\n",
      "5/5 [==============================] - 30s 6s/step - loss: 0.5596 - acc: 0.7094 - val_loss: 600.2490 - val_acc: 0.1315\n",
      "Epoch 6/10\n",
      "5/5 [==============================] - 31s 6s/step - loss: 0.5722 - acc: 0.6812 - val_loss: 564.1473 - val_acc: 0.1563\n",
      "Epoch 7/10\n",
      "5/5 [==============================] - 27s 6s/step - loss: 0.5532 - acc: 0.7250 - val_loss: 637.3012 - val_acc: 0.2208\n",
      "Epoch 8/10\n",
      "5/5 [==============================] - 26s 5s/step - loss: 0.6461 - acc: 0.6313 - val_loss: 378.6203 - val_acc: 0.1811\n",
      "Epoch 9/10\n",
      "5/5 [==============================] - 26s 5s/step - loss: 0.5355 - acc: 0.7279 - val_loss: 519.6439 - val_acc: 0.2159\n",
      "Epoch 10/10\n",
      "5/5 [==============================] - 27s 6s/step - loss: 0.5132 - acc: 0.7469 - val_loss: 668.0783 - val_acc: 0.1563\n"
     ]
    }
   ],
   "source": [
    "history = model.fit_generator(train_generator, epochs=10, steps_per_epoch=5, \n",
    "                    validation_data=validation_generator, validation_steps=7, workers=4) "
   ]
  },
  {
   "cell_type": "code",
   "execution_count": null,
   "id": "cc41e71d",
   "metadata": {},
   "outputs": [],
   "source": []
  },
  {
   "cell_type": "code",
   "execution_count": 22,
   "id": "a52ae74b",
   "metadata": {},
   "outputs": [
    {
     "name": "stdout",
     "output_type": "stream",
     "text": [
      "2/2 [==============================] - 4s 2s/step - loss: 674.0637 - acc: 0.1504\n",
      "Test accuracy: 15.04%\n",
      "Test loss: 67406.37%\n"
     ]
    }
   ],
   "source": [
    "loss, accuracy = model.evaluate(validation_generator)\n",
    "\n",
    "print('Test accuracy: {:2.2f}%'.format(accuracy*100)) \n",
    "print('Test loss: {:2.2f}%'.format(loss*100))  "
   ]
  },
  {
   "cell_type": "code",
   "execution_count": null,
   "id": "ebac9517",
   "metadata": {},
   "outputs": [],
   "source": []
  },
  {
   "cell_type": "code",
   "execution_count": 23,
   "id": "0c9a3611",
   "metadata": {},
   "outputs": [],
   "source": [
    "model.save('model_saved/model.h5') "
   ]
  },
  {
   "cell_type": "code",
   "execution_count": null,
   "id": "099ebf08",
   "metadata": {},
   "outputs": [],
   "source": []
  }
 ],
 "metadata": {
  "kernelspec": {
   "display_name": "Python 3 (ipykernel)",
   "language": "python",
   "name": "python3"
  },
  "language_info": {
   "codemirror_mode": {
    "name": "ipython",
    "version": 3
   },
   "file_extension": ".py",
   "mimetype": "text/x-python",
   "name": "python",
   "nbconvert_exporter": "python",
   "pygments_lexer": "ipython3",
   "version": "3.9.12"
  }
 },
 "nbformat": 4,
 "nbformat_minor": 5
}
